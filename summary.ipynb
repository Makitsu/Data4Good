{
 "cells": [
  {
   "cell_type": "markdown",
   "metadata": {},
   "source": [
    "## Imports\n"
   ]
  },
  {
   "cell_type": "code",
   "execution_count": 1,
   "metadata": {},
   "outputs": [],
   "source": [
    "%load_ext autoreload\n",
    "%autoreload 2\n",
    "\n",
    "#Imports\n",
    "import geopandas as gpd\n",
    "import numpy as np\n",
    "import pandas as pd\n",
    "\n",
    "#k-means\n",
    "import data_weighted_kmeans\n",
    "import importlib\n",
    "\n",
    "#graph\n",
    "import folium\n",
    "import random\n",
    "\n",
    "#widget\n",
    "import ipywidgets as widgets\n",
    "import os\n",
    "import time\n",
    "import selenium\n",
    "from selenium import webdriver\n"
   ]
  },
  {
   "cell_type": "markdown",
   "metadata": {},
   "source": [
    "## Manage Data "
   ]
  },
  {
   "cell_type": "code",
   "execution_count": 8,
   "metadata": {},
   "outputs": [],
   "source": [
    "# Load data\n",
    "iris = gpd.read_file(\"data/CONTOURS-IRIS_2-1__SHP__FRA_2017-06-30/CONTOURS-IRIS/1_DONNEES_LIVRAISON_2016/CONTOURS-IRIS_2-1_SHP_LAMB93_FE-2016/CONTOURS-IRIS.shp\")\n",
    "\n",
    "# Change projection\n",
    "iris = iris.to_crs(epsg='4326')\n",
    "iris.head()\n",
    "\n",
    "population_2014 = pd.read_excel(\"data/population_iris/base-ic-evol-struct-pop-2014.xls\", skiprows=4, header=1)\n"
   ]
  },
  {
   "cell_type": "code",
   "execution_count": 123,
   "metadata": {},
   "outputs": [],
   "source": [
    "N=population_2014[\"P14_POP\"].sum()\n",
    "n=population_2014.groupby(\"DEP\")[\"P14_POP\"].sum()\n",
    "N\n",
    "h = 335*n/N\n",
    "p=h.astype('int')"
   ]
  },
  {
   "cell_type": "code",
   "execution_count": 160,
   "metadata": {},
   "outputs": [
    {
     "data": {
      "text/html": [
       "<div>\n",
       "<style scoped>\n",
       "    .dataframe tbody tr th:only-of-type {\n",
       "        vertical-align: middle;\n",
       "    }\n",
       "\n",
       "    .dataframe tbody tr th {\n",
       "        vertical-align: top;\n",
       "    }\n",
       "\n",
       "    .dataframe thead th {\n",
       "        text-align: right;\n",
       "    }\n",
       "</style>\n",
       "<table border=\"1\" class=\"dataframe\">\n",
       "  <thead>\n",
       "    <tr style=\"text-align: right;\">\n",
       "      <th></th>\n",
       "      <th>nb_circo</th>\n",
       "      <th>nb_circo_int</th>\n",
       "      <th>dep</th>\n",
       "      <th>nb_circo_reste</th>\n",
       "      <th>nb_circo_reste_arrondi</th>\n",
       "      <th>circo_total</th>\n",
       "    </tr>\n",
       "  </thead>\n",
       "  <tbody>\n",
       "    <tr>\n",
       "      <th>0</th>\n",
       "      <td>3.182546</td>\n",
       "      <td>3</td>\n",
       "      <td>(01, [01, 01, 01, 01, 01, 01, 01, 01, 01, 01, ...</td>\n",
       "      <td>0.182546</td>\n",
       "      <td>0</td>\n",
       "      <td>3</td>\n",
       "    </tr>\n",
       "    <tr>\n",
       "      <th>1</th>\n",
       "      <td>2.743667</td>\n",
       "      <td>2</td>\n",
       "      <td>(02, [02, 02, 02, 02, 02, 02, 02, 02, 02, 02, ...</td>\n",
       "      <td>0.743667</td>\n",
       "      <td>1</td>\n",
       "      <td>3</td>\n",
       "    </tr>\n",
       "    <tr>\n",
       "      <th>2</th>\n",
       "      <td>1.743752</td>\n",
       "      <td>1</td>\n",
       "      <td>(03, [03, 03, 03, 03, 03, 03, 03, 03, 03, 03, ...</td>\n",
       "      <td>0.743752</td>\n",
       "      <td>1</td>\n",
       "      <td>2</td>\n",
       "    </tr>\n",
       "    <tr>\n",
       "      <th>3</th>\n",
       "      <td>0.821337</td>\n",
       "      <td>1</td>\n",
       "      <td>(04, [04, 04, 04, 04, 04, 04, 04, 04, 04, 04, ...</td>\n",
       "      <td>-0.178663</td>\n",
       "      <td>0</td>\n",
       "      <td>1</td>\n",
       "    </tr>\n",
       "    <tr>\n",
       "      <th>4</th>\n",
       "      <td>0.711012</td>\n",
       "      <td>1</td>\n",
       "      <td>(05, [05, 05, 05, 05, 05, 05, 05, 05, 05, 05, ...</td>\n",
       "      <td>-0.288988</td>\n",
       "      <td>0</td>\n",
       "      <td>1</td>\n",
       "    </tr>\n",
       "  </tbody>\n",
       "</table>\n",
       "</div>"
      ],
      "text/plain": [
       "   nb_circo  nb_circo_int                                                dep  \\\n",
       "0  3.182546             3  (01, [01, 01, 01, 01, 01, 01, 01, 01, 01, 01, ...   \n",
       "1  2.743667             2  (02, [02, 02, 02, 02, 02, 02, 02, 02, 02, 02, ...   \n",
       "2  1.743752             1  (03, [03, 03, 03, 03, 03, 03, 03, 03, 03, 03, ...   \n",
       "3  0.821337             1  (04, [04, 04, 04, 04, 04, 04, 04, 04, 04, 04, ...   \n",
       "4  0.711012             1  (05, [05, 05, 05, 05, 05, 05, 05, 05, 05, 05, ...   \n",
       "\n",
       "   nb_circo_reste  nb_circo_reste_arrondi  circo_total  \n",
       "0        0.182546                       0            3  \n",
       "1        0.743667                       1            3  \n",
       "2        0.743752                       1            2  \n",
       "3       -0.178663                       0            1  \n",
       "4       -0.288988                       0            1  "
      ]
     },
     "execution_count": 160,
     "metadata": {},
     "output_type": "execute_result"
    }
   ],
   "source": [
    "#distribute circonscription by departement\n",
    "df_rep = pd.DataFrame()\n",
    "df_rep['nb_circo'] = h.values\n",
    "df_rep['nb_circo_int'] = p.values\n",
    "df_rep['nb_circo_int'] = df_rep['nb_circo_int'].replace(0,1)\n",
    "df_rep['dep']=population_2014.groupby(\"DEP\")[\"DEP\"]\n",
    "rest = int(df_rep['nb_circo'].sum()-df_rep['nb_circo_int'].sum())+1\n",
    "df_rep['nb_circo_reste'] = df_rep['nb_circo'] - df_rep['nb_circo_int']\n",
    "df_rep = df_rep.sort_values('nb_circo_reste', ascending=True)\n",
    "df_rep['nb_circo_reste_arrondi'] = (df_rep['nb_circo_reste'] >= df_rep['nb_circo_reste'].nlargest(n=rest).min()).astype('int') \n",
    "df_rep['circo_total'] = df_rep['nb_circo_int'] + df_rep['nb_circo_reste_arrondi'] \n",
    "df_rep = df_rep.sort_values('dep')\n",
    "df_rep.head()"
   ]
  },
  {
   "cell_type": "code",
   "execution_count": 161,
   "metadata": {},
   "outputs": [],
   "source": [
    "iris_filtered= {}\n",
    "\n",
    "for i in range(1,95):\n",
    "    if i<10 :\n",
    "        departement = \"0\"+str(i)\n",
    "        \n",
    "    else :\n",
    "        departement = str(i)\n",
    "    if i!=20:    \n",
    "        iris_filtered[i] = iris[iris[\"CODE_IRIS\"].str.startswith(departement)].copy()\n",
    "        \n",
    "    \n",
    "population_2014[\"CODE_IRIS\"] = population_2014[\"IRIS\"]\n",
    "\n",
    "\n",
    "dept = 1\n",
    "\n",
    "for key, value in iris_filtered.items():\n",
    "         \n",
    "        value.loc[:,'P14_POP'] = population_2014['P14_POP']\n",
    "        value.loc[:, 'departement_iris'] = dept\n",
    "        dept = dept + 1\n",
    "        value.loc[:, 'centroid_lng'] = value[\"geometry\"].centroid.apply(lambda x: x.x)\n",
    "        value.loc[:, 'centroid_lat'] = value[\"geometry\"].centroid.apply(lambda x: x.y)    "
   ]
  },
  {
   "cell_type": "markdown",
   "metadata": {},
   "source": [
    "## Create & save map"
   ]
  },
  {
   "cell_type": "code",
   "execution_count": 162,
   "metadata": {},
   "outputs": [
    {
     "name": "stderr",
     "output_type": "stream",
     "text": [
      "C:\\Users\\LHOUMEAU\\Anaconda3_\\lib\\site-packages\\ipykernel_launcher.py:32: FutureWarning: Method `add_children` is deprecated. Please use `add_child` instead.\n"
     ]
    },
    {
     "name": "stdout",
     "output_type": "stream",
     "text": [
      "Wall time: 3min 38s\n"
     ]
    }
   ],
   "source": [
    "%%time\n",
    "importlib.reload(data_weighted_kmeans)\n",
    "mapa = folium.Map([46.575859, 0.290518],\n",
    "              zoom_start=9,\n",
    "              tiles='cartodbpositron')\n",
    "map_filtered={}\n",
    "k=335\n",
    "count=1;\n",
    "#for k in range(300,600,25):\n",
    "for key, value in iris_filtered.items():\n",
    "    if key != 59:\n",
    "        points = []\n",
    "        nb= df_rep['circo_total'][key]\n",
    "        for idx, row in value.iterrows():\n",
    "            points.append({\"coords\": np.array([float(row['centroid_lng']), float(row['centroid_lat'])]), \\\n",
    "                          \"w\": int(row[\"P14_POP\"]), \"zip\": row['CODE_IRIS'], \"state\": row[\"departement_iris\"]})\n",
    "\n",
    "        centers = data_weighted_kmeans.randomize_initial_cluster(points, nb)\n",
    "\n",
    "        points, centers, it_num = data_weighted_kmeans.kmeans_evolution_weighted(points, centers, nb, it_max=1000, weight_step_scale=10)\n",
    "        points_df = pd.DataFrame.from_dict(points)\n",
    "        points_df[\"CODE_IRIS\"] = points_df[\"zip\"]\n",
    "        points_df[\"coords\"] = \"aaa\"\n",
    "        result = value.merge(points_df, how='inner', on=['CODE_IRIS', 'CODE_IRIS'])\n",
    "        simplified_map = result.dissolve(by='c')\n",
    "        simplified_map[\"colour\"] = [\"#%06x\" % random.randint(0, 0xFFFFFF) for i in range(0,nb)]\n",
    "        points = folium.features.GeoJson(simplified_map,  style_function=lambda feature: { 'fillColor': feature['properties']['colour'],\n",
    "            'color' : \"#000000\",\n",
    "            'weight' : 1,\n",
    "            'fillOpacity' : 0.5,\n",
    "            }\n",
    "        )\n",
    "        map_filtered[\"map{0}\".format(key)] = points\n",
    "        mapa.add_children(points)\n",
    "        for i in range(0,len(centers)):\n",
    "            center = centers[i ]\n",
    "            folium.Marker([center[\"coords\"][1], center[\"coords\"][0]], popup=\"population : {pop}\".format(idx=i, pop=center[\"pop\"])).add_to(mapa)\n",
    "\n",
    "fn='generated_map\\map_'+str(k)+'circo.html'\n",
    "mapa.save(fn)\n",
    "    "
   ]
  },
  {
   "cell_type": "code",
   "execution_count": 159,
   "metadata": {},
   "outputs": [],
   "source": [
    "\n"
   ]
  }
 ],
 "metadata": {
  "celltoolbar": "Edit Metadata",
  "kernelspec": {
   "display_name": "Python 3",
   "language": "python",
   "name": "python3"
  },
  "language_info": {
   "codemirror_mode": {
    "name": "ipython",
    "version": 3
   },
   "file_extension": ".py",
   "mimetype": "text/x-python",
   "name": "python",
   "nbconvert_exporter": "python",
   "pygments_lexer": "ipython3",
   "version": "3.6.4"
  }
 },
 "nbformat": 4,
 "nbformat_minor": 2
}
